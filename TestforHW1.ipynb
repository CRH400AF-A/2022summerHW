{
 "cells": [
  {
   "cell_type": "code",
   "execution_count": 7,
   "id": "6bc5b932",
   "metadata": {},
   "outputs": [
    {
     "name": "stdout",
     "output_type": "stream",
     "text": [
      "[[14 32]\n",
      " [32 77]]\n"
     ]
    },
    {
     "data": {
      "text/plain": [
       "matrix([[14, 32],\n",
       "        [32, 77]])"
      ]
     },
     "execution_count": 7,
     "metadata": {},
     "output_type": "execute_result"
    }
   ],
   "source": [
    "import numpy as np\n",
    "a = np.matrix([[1,2,3],[4,5,6]])\n",
    "b = np.matrix([[1,4],[2,5],[3,6]])\n",
    "c = a * b\n",
    "print(c)\n",
    "np.dot(a,b)"
   ]
  },
  {
   "cell_type": "markdown",
   "id": "ffc3a7a3",
   "metadata": {},
   "source": [
    "# test for matrix multiply       Using Numpy\n",
    "## Numpy supports multiplying one matrix by anothor.\n",
    "## Use   '*'   or   '@'   or  'np.dot(matrix1,matrix2)'\n",
    "\n",
    "## don not forget '[]'"
   ]
  }
 ],
 "metadata": {
  "kernelspec": {
   "display_name": "Python 3",
   "language": "python",
   "name": "python3"
  },
  "language_info": {
   "codemirror_mode": {
    "name": "ipython",
    "version": 3
   },
   "file_extension": ".py",
   "mimetype": "text/x-python",
   "name": "python",
   "nbconvert_exporter": "python",
   "pygments_lexer": "ipython3",
   "version": "3.6.9"
  }
 },
 "nbformat": 4,
 "nbformat_minor": 5
}
